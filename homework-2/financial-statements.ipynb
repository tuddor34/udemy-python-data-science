{
 "cells": [
  {
   "cell_type": "markdown",
   "metadata": {},
   "source": [
    "## Financial statement analysis"
   ]
  },
  {
   "cell_type": "markdown",
   "metadata": {},
   "source": [
    "#### Input data"
   ]
  },
  {
   "cell_type": "code",
   "execution_count": 1,
   "metadata": {},
   "outputs": [],
   "source": [
    "revenue = [14574.49, 7606.46, 8611.41, 9175.41, 8058.65, 8105.44, 11496.28, 9766.09, 10305.32, 14379.96, 10713.97, 15433.50]\n",
    "expenses = [12051.82, 5695.07, 12319.20, 12089.72, 8658.57, 840.20, 3285.73, 5821.12, 6976.93, 16618.61, 10054.37, 3803.96]"
   ]
  },
  {
   "cell_type": "markdown",
   "metadata": {},
   "source": [
    "#### Solution"
   ]
  },
  {
   "cell_type": "code",
   "execution_count": 2,
   "metadata": {},
   "outputs": [],
   "source": [
    "import numpy as np\n",
    "\n",
    "# Calculate monthly profit\n",
    "monthly_profit = []\n",
    "for i in range(len(revenue)):\n",
    "    monthly_profit.append(revenue[i] - expenses[i])\n",
    "    \n",
    "# Calculate profit after tax\n",
    "monthly_profit_net = [round(0.7 * i, 2) for i in monthly_profit]\n",
    "\n",
    "# Profit margin for each month\n",
    "profit_margin = []\n",
    "for i in range(len(revenue)):\n",
    "    profit_margin.append(monthly_profit_net[i] * 100 / revenue[i])\n",
    "    \n",
    "# Profit greater or less than the mean of the year\n",
    "# Good and bad months\n",
    "mean = np.array(monthly_profit_net).mean()\n",
    "good_months = []\n",
    "bad_months = []\n",
    "for value in monthly_profit_net:\n",
    "    if value > mean:\n",
    "        good_months.append(value)\n",
    "    elif value < mean:\n",
    "        bad_months.append(value)\n",
    "\n",
    "# best and worst months\n",
    "best_month = max(monthly_profit_net)\n",
    "worst_month = min(monthly_profit_net)"
   ]
  },
  {
   "cell_type": "markdown",
   "metadata": {},
   "source": [
    "#### Print results"
   ]
  },
  {
   "cell_type": "code",
   "execution_count": 3,
   "metadata": {},
   "outputs": [
    {
     "name": "stdout",
     "output_type": "stream",
     "text": [
      "Monthly profit:  [2, 1, -3, -2, 0, 7, 8, 3, 3, -2, 0, 11]\n",
      "Monthly profit net:  [1, 1, -2, -2, 0, 5, 5, 2, 2, -1, 0, 8]\n",
      "Profit margin:  [12, 17, -30, -22, -5, 62, 49, 28, 22, -10, 4, 52]\n",
      "Good months:  [1, 5, 5, 2, 2, 8]\n",
      "Bad months:  [1, -2, -2, 0, -1, 0]\n",
      "Best month is:  8\n",
      "Worst monh is:  -2\n"
     ]
    }
   ],
   "source": [
    "# print money values in units of 1k and % ratios without decimals\n",
    "print('Monthly profit: ',[int(i/1000) for i in monthly_profit])\n",
    "print('Monthly profit net: ',[int(i/1000) for i in monthly_profit_net])\n",
    "print('Profit margin: ', [int(i) for i in profit_margin])\n",
    "print('Good months: ', [int(i/1000) for i in good_months])\n",
    "print('Bad months: ', [int(i/1000) for i in bad_months])\n",
    "print('Best month is: ', int(best_month/1000))\n",
    "print('Worst monh is: ', int(worst_month/1000))"
   ]
  }
 ],
 "metadata": {
  "kernelspec": {
   "display_name": "Python 3",
   "language": "python",
   "name": "python3"
  },
  "language_info": {
   "codemirror_mode": {
    "name": "ipython",
    "version": 3
   },
   "file_extension": ".py",
   "mimetype": "text/x-python",
   "name": "python",
   "nbconvert_exporter": "python",
   "pygments_lexer": "ipython3",
   "version": "3.6.4"
  }
 },
 "nbformat": 4,
 "nbformat_minor": 1
}
