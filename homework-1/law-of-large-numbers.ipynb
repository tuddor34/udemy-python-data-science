{
 "cells": [
  {
   "cell_type": "markdown",
   "metadata": {},
   "source": [
    "### Law of large numbers\n",
    "Test the law of large numbers for $N$ randomly distributed numbers with $mean = 0$ and $stdev = 1$\n",
    "\n",
    "$$ \\overline{X_{n}} -> E(X) \\quad when \\quad n \\to \\infty $$\n",
    "\n",
    "We now that $E(X) = 68.2\\%$\n",
    "\n",
    "We want to check that the output is getting closer to 68.2% as we increase N"
   ]
  },
  {
   "cell_type": "code",
   "execution_count": 1,
   "metadata": {},
   "outputs": [
    {
     "name": "stdout",
     "output_type": "stream",
     "text": [
      "0.6845\n"
     ]
    }
   ],
   "source": [
    "import numpy as np\n",
    "from numpy.random import randn\n",
    "\n",
    "N = 10000\n",
    "count = 0\n",
    "for num in randn(N):\n",
    "    if num >= -1 and num <=1:\n",
    "        count += 1 \n",
    "print(count/N)"
   ]
  }
 ],
 "metadata": {
  "kernelspec": {
   "display_name": "Python 3",
   "language": "python",
   "name": "python3"
  },
  "language_info": {
   "codemirror_mode": {
    "name": "ipython",
    "version": 3
   },
   "file_extension": ".py",
   "mimetype": "text/x-python",
   "name": "python",
   "nbconvert_exporter": "python",
   "pygments_lexer": "ipython3",
   "version": "3.6.4"
  }
 },
 "nbformat": 4,
 "nbformat_minor": 2
}
